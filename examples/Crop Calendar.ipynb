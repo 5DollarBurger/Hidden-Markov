{
 "cells": [
  {
   "cell_type": "markdown",
   "id": "f995756b",
   "metadata": {},
   "source": [
    "# Crop Calendar Positioning with Hidden Markov Models\n",
    "\n",
    "By: Darrell Leong\n",
    "\n",
    "Contact: darrell.leong@yara.com"
   ]
  },
  {
   "cell_type": "markdown",
   "id": "23e8bc5c",
   "metadata": {},
   "source": [
    "## Crop Calendar\n"
   ]
  },
  {
   "cell_type": "code",
   "execution_count": 1,
   "id": "ac3d2be6",
   "metadata": {},
   "outputs": [
    {
     "name": "stdout",
     "output_type": "stream",
     "text": [
      "['seedling', 'tillering', 'panicle', 'flowering', 'filling', 'maturity']\n"
     ]
    }
   ],
   "source": [
    "cropCal = [\n",
    "    {\"stage\": \"seedling\", \"weeks\": 4},\n",
    "    {\"stage\": \"tillering\", \"weeks\": 6},\n",
    "    {\"stage\": \"panicle\", \"weeks\": 3},\n",
    "    {\"stage\": \"flowering\", \"weeks\": 2},\n",
    "    {\"stage\": \"filling\", \"weeks\": 3},\n",
    "    {\"stage\": \"maturity\", \"weeks\": 2}\n",
    "]\n",
    "stageList = []\n",
    "for stgObj in cropCal:\n",
    "    stageList.append(stgObj[\"stage\"])\n",
    "    \n",
    "print(stageList)"
   ]
  },
  {
   "cell_type": "markdown",
   "id": "d5d0ca48",
   "metadata": {},
   "source": [
    "## Hidden Markov Process"
   ]
  },
  {
   "cell_type": "markdown",
   "id": "5918ca10",
   "metadata": {},
   "source": [
    "The growth stage of the crop is not directly observable, and is hence the attribute to be predicted. However, the growth stage cannot be directly modelled as hidden states. This is because day-to-day transition probabilities of the stages are not stationary. As time progresses, the probability if transitioning from one growth stage to the next increase. Hence, the progression of growth stages, as a procress, does not exhibit a Markov property.\n",
    "\n",
    "However, we can model the crop's *relative calendar position* as a discrete Markov process. That is, at any point of time, the crop is in one of the 3 hidden states:\n",
    "- behind the calendar (-)\n",
    "- on the calendar (0)\n",
    "- ahead of the calendar (+)\n",
    "\n",
    "For example, during the first 6 weeks the paddy crop calendar indicates a growth stage progression of:\n",
    "\n",
    "seedling, seedling, seedling, seedling, tillering, tillering\n",
    "\n",
    "However, the crop experiences an accelerated growth stage progression of:\n",
    "\n",
    "seedling, seedling, tillering, tillering, tillering, tillering\n",
    "\n",
    "The relative progression of the crop's growth stage against the crop calendar would hence be sequenced as:\n",
    "\n",
    "0, 0, +2, +2, +2, +2\n",
    "\n",
    "Assuming the crop does not deviate from the calendar by more than 2 weeks, the 5 discrete hidden states can be defined as $[-2, -1, 0, 1, 2]$."
   ]
  },
  {
   "cell_type": "code",
   "execution_count": 2,
   "id": "d911a8cf",
   "metadata": {},
   "outputs": [],
   "source": [
    "import numpy as np\n",
    "\n",
    "# define initial HMM\n",
    "pi = np.array([0.05, 0.1, 0.7, 0.1, 0.05])\n",
    "A = np.array([\n",
    "    [0.8, 0.1, 0.05, 0.03, 0.02],\n",
    "    [0.1, 0.72, 0.1, 0.05, 0.03],\n",
    "    [0.05, 0.1, 0.7, 0.1, 0.05],\n",
    "    [0.03, 0.05, 0.1, 0.72, 0.1],\n",
    "    [0.02, 0.03, 0.05, 0.1, 0.8]\n",
    "])\n",
    "B = np.array([\n",
    "    [0.8, 0.1, 0.05, 0.03, 0.02],\n",
    "    [0.1, 0.72, 0.1, 0.05, 0.03],\n",
    "    [0.05, 0.1, 0.7, 0.1, 0.05],\n",
    "    [0.03, 0.05, 0.1, 0.72, 0.1],\n",
    "    [0.02, 0.03, 0.05, 0.1, 0.8]\n",
    "])"
   ]
  },
  {
   "cell_type": "code",
   "execution_count": 3,
   "id": "4840f20f",
   "metadata": {},
   "outputs": [],
   "source": [
    "import os, sys\n",
    "\n",
    "p = os.path.abspath('..')\n",
    "sys.path.insert(1, p)\n",
    "from src.HMMDiscrete import HMMDiscrete\n",
    "\n",
    "# initialize HMM\n",
    "ins = HMMDiscrete(pi=pi, A=A, B=B)"
   ]
  },
  {
   "cell_type": "code",
   "execution_count": 4,
   "id": "60c245ec",
   "metadata": {},
   "outputs": [
    {
     "name": "stdout",
     "output_type": "stream",
     "text": [
      "Initial transition probabilities: \n",
      " [[0.8  0.1  0.05 0.03 0.02]\n",
      " [0.1  0.72 0.1  0.05 0.03]\n",
      " [0.05 0.1  0.7  0.1  0.05]\n",
      " [0.03 0.05 0.1  0.72 0.1 ]\n",
      " [0.02 0.03 0.05 0.1  0.8 ]]\n",
      "Updated transition probabilities: \n",
      " [[0.   0.   0.   1.   0.  ]\n",
      " [0.   0.   0.   1.   0.  ]\n",
      " [0.12 0.88 0.   0.   0.  ]\n",
      " [0.   0.   0.   0.33 0.67]\n",
      " [0.02 0.06 0.59 0.   0.33]]\n"
     ]
    }
   ],
   "source": [
    "print(\"Initial transition probabilities: \\n\", np.around(ins.A, decimals=2))\n",
    "x = np.array([2, 2, 3, 3, 3, 2])\n",
    "costList = ins.update(X=[x])\n",
    "# print(costList)\n",
    "print(\"Updated transition probabilities: \\n\", np.around(ins.A, decimals=2))"
   ]
  },
  {
   "cell_type": "code",
   "execution_count": 5,
   "id": "86f56408",
   "metadata": {},
   "outputs": [
    {
     "data": {
      "text/plain": [
       "<BarContainer object of 5 artists>"
      ]
     },
     "execution_count": 5,
     "metadata": {},
     "output_type": "execute_result"
    },
    {
     "data": {
      "image/png": "[encoded data removed]",
      "text/plain": [
       "<Figure size 432x288 with 1 Axes>"
      ]
     },
     "metadata": {
      "needs_background": "light"
     },
     "output_type": "display_data"
    }
   ],
   "source": [
    "import matplotlib.pyplot as plt\n",
    "zProb = ins.filter(x=x)\n",
    "plt.bar((-2, -1, 0, 1, 2), zProb)"
   ]
  }
 ],
 "metadata": {
  "kernelspec": {
   "display_name": "Python 3",
   "language": "python",
   "name": "python3"
  },
  "language_info": {
   "codemirror_mode": {
    "name": "ipython",
    "version": 3
   },
   "file_extension": ".py",
   "mimetype": "text/x-python",
   "name": "python",
   "nbconvert_exporter": "python",
   "pygments_lexer": "ipython3",
   "version": "3.9.4"
  }
 },
 "nbformat": 4,
 "nbformat_minor": 5
}
